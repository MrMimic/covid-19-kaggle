{
 "cells": [
  {
   "cell_type": "markdown",
   "metadata": {},
   "source": [
    "# Analysis of Covid-19 Risk factors by an opinion extraction strategy\n",
    "\n",
    "\n",
    "### Intro\n",
    "\n",
    "This notebook is the result of the collaborative work of a group of engineers at Atos/Bull Fr.\n",
    "\n",
    "Our goal was to **overcomes the problem of quickly finding different opinions** about a given subjet. In fact, it can be very difficult to quickly get reliable information: many different points of view are represented in the medias as well as in the scientific litterature.\n",
    "\n",
    "Instead of simply returning the most closest sentences to the query, we chose to **extract the diferent opinions**, which can be shared by the different groups of people working on a subject.\n",
    "\n",
    "![Overview](https://raw.githubusercontent.com/MrMimic/covid-19-kaggle/master/images/kaggle_covid.png)\n",
    "\n",
    "### How it works \n",
    "\n",
    "#### Database creation\n",
    "\n",
    "All titles, abstracts and body texts of the dataset have been [inserted into an SQLite DB](https://github.com/MrMimic/covid-19-kaggle/blob/master/src/main/python/c19/database_utilities.py#L186) (only english articles for the moment). \n",
    "\n",
    "They have been preprocessed by using the [method we developed](https://github.com/MrMimic/covid-19-kaggle/blob/master/src/main/python/c19/text_preprocessing.py#L21). It will lower and stem the text, remove stopwords, remove numeric values, split texts into sentences and sentences into words.\n",
    "\n",
    "A [word2vec](https://radimrehurek.com/gensim/models/word2vec.html) embedding and a [TF-IDF](https://scikit-learn.org/stable/modules/generated/sklearn.feature_extraction.text.TfidfVectorizer.html) models have been trained on this pre-processed corpus. Briefly, these models allow to get a fixed-length vector to represent each word of the corpus (word2vec) and to weight each word regarding it's frequency among all the corpus and in each document (TF-IDF). The result is a parquet table, [stored on Github](https://github.com/MrMimic/covid-19-kaggle/blob/master/resources/global_df_w2v_tfidf.parquet), containing for each word a float vector and a TF-IDF score.\n",
    "\n",
    "![Table header](https://raw.githubusercontent.com/MrMimic/covid-19-kaggle/master/images/header_w2v_tfidf.jpg \"Table header\")\n",
    "\n",
    "The file can be re-generated in more or less 30 minutes on a 8 vCPU machine by using [this script](https://github.com/MrMimic/covid-19-kaggle/blob/master/src/main/scripts/train_w2v.py).\n",
    "\n",
    "Each sentence from the corpus have been pre-processed and [vectorized](https://github.com/MrMimic/covid-19-kaggle/blob/master/src/main/python/c19/embedding.py#L65). To do so, each pre-processed word from a sentence is represented by its vector and weithed by the TF-IDF score. Then, all vectors from the different words composing the sentence are averaged ([Mean of Word Embeddings](https://books.google.fr/books?id=tBxrDwAAQBAJ&pg=PA95&lpg=PA95&dq=mean+of+word+embedding+MOWE&source=bl&ots=7laX_HWKS0&sig=ACfU3U2DvGwGI6Bs4HTkX0_oP7Nf3UTP2A&hl=en&sa=X&ved=2ahUKEwiXguOJ9tjoAhX3D2MBHS6mAzoQ6AEwCnoECA0QKA#v=onepage&q=mean%20of%20word%20embedding%20MOWE&f=false)). All these pre-processed sentences are [stored in base](https://github.com/MrMimic/covid-19-kaggle/blob/master/src/main/python/c19/text_preprocessing.py#L151).\n",
    "\n",
    "#### Query matching\n",
    "\n",
    "The query is first [vectorised](https://github.com/MrMimic/covid-19-kaggle/blob/master/src/main/python/c19/query_matching.py#L57) by using the same strategy and tool as explained above. The cosine similarity of this sentence [versus all stored sentences](https://github.com/MrMimic/covid-19-kaggle/blob/master/src/main/python/c19/query_matching.py#L127) vectors is then computed. Briefly, it allows to check how each sentence of the dataset is close from the query. Only the top-k sentences are returned (filtered either by minimal distance or by a fixed number of top-k sentences).\n",
    "\n",
    "All these top-k closest sentences are then clusterised by a Kmean algorithm. These clusters will represent the different opinions found about the query.\n",
    "\n",
    "Only the closest sentence from each centroid is returned (*ie*, the sentence reflecting the most the opinion on this subject).\n",
    "\n",
    "### What's cool\n",
    "\n",
    "- The trained embedding is not generic. Even if pre-trained models found on the Internet work well, the context of covid-19 and the kind of sentences to be processed make a locally trained embedding better.\n",
    "- Code is highly optimisez for RAM and rapid processing. Only the resulting DB weights gigabytes.\n",
    "- Code is documented, PEP8 complient and installable as a Python library.\n",
    "- The solution is highly portable (even on mobile with less sentences for example) due to the usage of SQLite.\n",
    "\n",
    "### What's not\n",
    "\n",
    "- The database containing all sentences weights more than 20Go. It is thus unusable on Kaggle. To overcome this issue, we had to select randomly 10 sentences from the body.\n",
    "\n",
    "### What's next\n",
    "\n",
    "Version 2.0 of this work will be released before the April, 15th. To come:\n",
    "\n",
    "- Ranking best papers from opinions clusters regarding the authors and their background.\n",
    "- Auto-estimate K for the number of opinions.\n",
    "- Auto-test the code on Github with unitary tests on the methods.\n",
    "- Maybe some interactive figures.\n",
    "- Etc ;)\n",
    "\n",
    "**And during the round #2, we would to develop:**\n",
    "\n",
    "- A multi-lingual search (maybe with trained embedding on different languages instead of just translating the query).\n",
    "- Use a larger pre-trained embedding (on the same corpus but maybe with some data augmentation from PubMed on the given subjects).\n",
    "- Auto update of the newly published scientific litterature with a link to the Pubmed API.\n",
    "\n",
    "### Usage\n",
    "\n",
    "Queries from the different tasks have been reformulated and [stored in Github](https://github.com/MrMimic/covid-19-kaggle/blob/master/resources/queries.json). All of them have been sent to the pipeline and the result are store in markdown format here (TO COME).\n",
    "\n",
    "For this notebook, we will focus on a given task and try to answer by using our tool."
   ]
  },
  {
   "cell_type": "markdown",
   "metadata": {},
   "source": [
    "### Setup\n",
    "\n",
    "The library can be easily [installed from github](https://github.com/MrMimic/covid-19-kaggle/blob/master/setup.py)."
   ]
  },
  {
   "cell_type": "code",
   "execution_count": 1,
   "metadata": {
    "_cell_guid": "b1076dfc-b9ad-4769-8c92-a6c4dae69d19",
    "_uuid": "8f2839f25d086af736a60e9eeb907d3b93b6e0e5"
   },
   "outputs": [],
   "source": [
    "# Install custom library from Github\n",
    "!pip install -q --no-warn-conflicts git+https://github.com/MrMimic/covid-19-kaggle\n",
    "\n",
    "import os\n",
    "# Custom lib installed from github\n",
    "from c19 import database_utilities, text_preprocessing, embedding, query_matching, parameters\n",
    "\n",
    "# Ugly dependencies warnings\n",
    "import warnings\n",
    "warnings.filterwarnings(\"ignore\")"
   ]
  },
  {
   "cell_type": "markdown",
   "metadata": {},
   "source": [
    "Then, the parameters are loaded ([full explaination of the parameters](https://github.com/MrMimic/covid-19-kaggle/blob/master/src/main/python/c19/parameters.py)). \n",
    "\n",
    "Parameters() class returns default parameters which can be customised."
   ]
  },
  {
   "cell_type": "code",
   "execution_count": 2,
   "metadata": {
    "_cell_guid": "79c7e3d0-c299-4dcb-8224-4455121ee9b0",
    "_uuid": "d629ff2d2480ee46fbb7e2d37f6b5fab8052498a"
   },
   "outputs": [],
   "source": [
    "params = parameters.Parameters(\n",
    "    first_launch=True,\n",
    "    database=parameters.Database(\n",
    "        local_path=\"local_database.sqlite\",\n",
    "        kaggle_data_path=os.path.join(os.sep, \"kaggle\", \"input\", \"CORD-19-research-challenge\")\n",
    "    ),\n",
    "    preprocessing=parameters.PreProcessing(\n",
    "        max_body_sentences=10,\n",
    "        stem_words=False\n",
    "    ),\n",
    "    query=parameters.Query(\n",
    "        top_k_sentences_distance=0.8,\n",
    "        filtering_method=\"distance\"\n",
    "    )\n",
    ")"
   ]
  },
  {
   "cell_type": "markdown",
   "metadata": {},
   "source": [
    "We construct the database by loading all title and abstract (as well as randomly chosen sentences from body to ensure that the SQLite database can be hosted on Kaggle)."
   ]
  },
  {
   "cell_type": "code",
   "execution_count": 3,
   "metadata": {},
   "outputs": [
    {
     "name": "stdout",
     "output_type": "stream",
     "text": [
      "41361 articles to be prepared.\n"
     ]
    },
    {
     "name": "stderr",
     "output_type": "stream",
     "text": [
      "PRE-PROCESSING: 100%|██████████| 41361/41361 [01:05<00:00, 627.15it/s]\n"
     ]
    },
    {
     "name": "stdout",
     "output_type": "stream",
     "text": [
      "Took 1.1 min to prepare 41361 articles for insertion.\n",
      "Took 0.23 min to insert 41361 articles (SQLite DB: local_database.sqlite).\n"
     ]
    }
   ],
   "source": [
    "database_utilities.create_db_and_load_articles(\n",
    "    db_path=params.database.local_path,\n",
    "    kaggle_data_path=params.database.kaggle_data_path,\n",
    "    first_launch=params.first_launch,\n",
    "    load_body=params.preprocessing.load_text_body)"
   ]
  },
  {
   "cell_type": "markdown",
   "metadata": {},
   "source": [
    "The pre-trained embeddings are loaded from GIthub. It can now return words vectors (which can be weighted by TF-IDF scores)."
   ]
  },
  {
   "cell_type": "code",
   "execution_count": 4,
   "metadata": {},
   "outputs": [
    {
     "name": "stdout",
     "output_type": "stream",
     "text": [
      "Took 0.58 min to load 48539 Word2Vec vectors (embedding dim: 100).\n"
     ]
    }
   ],
   "source": [
    "embedding_model = embedding.Embedding(\n",
    "    parquet_embedding_path=params.embedding.local_path,\n",
    "    embeddings_dimension=params.embedding.dimension,\n",
    "    sentence_embedding_method=params.embedding.word_aggregation_method,\n",
    "    weight_vectors=params.embedding.weight_with_tfidf)"
   ]
  },
  {
   "cell_type": "markdown",
   "metadata": {},
   "source": [
    "The sentences are pre-processed, vectorised and inserted into the SQLite database."
   ]
  },
  {
   "cell_type": "code",
   "execution_count": 5,
   "metadata": {},
   "outputs": [
    {
     "name": "stdout",
     "output_type": "stream",
     "text": [
      "41361 files to pre-process (42 batches of 1000 articles).\n"
     ]
    },
    {
     "name": "stderr",
     "output_type": "stream",
     "text": [
      "PRE-PROCESSING: 100%|██████████| 42/42 [33:54<00:00, 48.43s/it]\n"
     ]
    },
    {
     "name": "stdout",
     "output_type": "stream",
     "text": [
      "Took 34.38 min to pre-process 42 batches of articles.\n",
      "Took 0.38 min to insert 612928 sentences (SQLite DB: local_database.sqlite).\n"
     ]
    }
   ],
   "source": [
    "text_preprocessing.pre_process_and_vectorize_texts(\n",
    "    embedding_model=embedding_model,\n",
    "    db_path=params.database.local_path,\n",
    "    first_launch=params.first_launch,\n",
    "    stem_words=params.preprocessing.stem_words,\n",
    "    remove_num=params.preprocessing.remove_numeric,\n",
    "    batch_size=params.preprocessing.batch_size,\n",
    "    max_body_sentences=params.preprocessing.max_body_sentences)"
   ]
  },
  {
   "cell_type": "markdown",
   "metadata": {},
   "source": [
    "The database is ready to be used.\n",
    "\n",
    "### Analyse: covid-19 risk factors study"
   ]
  },
  {
   "cell_type": "code",
   "execution_count": 6,
   "metadata": {},
   "outputs": [
    {
     "name": "stdout",
     "output_type": "stream",
     "text": [
      "Queries will be match versus 612916 sentences (1.7 minutes to load).\n"
     ]
    }
   ],
   "source": [
    "full_sentences_db = query_matching.get_sentences_data(db_path=params.database.local_path)"
   ]
  },
  {
   "cell_type": "code",
   "execution_count": 7,
   "metadata": {},
   "outputs": [],
   "source": [
    "query = \"What do we know about Chloroquine to treat covid-19 induced by coronavirus?\""
   ]
  },
  {
   "cell_type": "code",
   "execution_count": 8,
   "metadata": {},
   "outputs": [
    {
     "name": "stdout",
     "output_type": "stream",
     "text": [
      "Took 0.21 minutes to process the query (447 sentences kept by distance filtering).\n"
     ]
    }
   ],
   "source": [
    "closest_sentences_df = query_matching.get_k_closest_sentences(\n",
    "    query=query,\n",
    "    all_sentences=full_sentences_db,\n",
    "    embedding_model=embedding_model,\n",
    "    number_threshold=params.query.top_k_sentences_number,\n",
    "    distance_threshold=params.query.top_k_sentences_distance,\n",
    "    filtering_method=params.query.filtering_method)"
   ]
  },
  {
   "cell_type": "code",
   "execution_count": 9,
   "metadata": {},
   "outputs": [
    {
     "name": "stdout",
     "output_type": "stream",
     "text": [
      "Took 0.23 seconds to clusterise 447 closest sentences.\n"
     ]
    }
   ],
   "source": [
    "closest_sentences_df = query_matching.clusterise_sentences(\n",
    "    k_closest_sentences_df=closest_sentences_df,\n",
    "    number_of_clusters=3)"
   ]
  },
  {
   "cell_type": "code",
   "execution_count": 10,
   "metadata": {},
   "outputs": [
    {
     "data": {
      "text/html": [
       "<div>\n",
       "<style scoped>\n",
       "    .dataframe tbody tr th:only-of-type {\n",
       "        vertical-align: middle;\n",
       "    }\n",
       "\n",
       "    .dataframe tbody tr th {\n",
       "        vertical-align: top;\n",
       "    }\n",
       "\n",
       "    .dataframe thead th {\n",
       "        text-align: right;\n",
       "    }\n",
       "</style>\n",
       "<table border=\"1\" class=\"dataframe\">\n",
       "  <thead>\n",
       "    <tr style=\"text-align: right;\">\n",
       "      <th></th>\n",
       "      <th>paper_doi</th>\n",
       "      <th>section</th>\n",
       "      <th>raw_sentence</th>\n",
       "      <th>sentence</th>\n",
       "      <th>vector</th>\n",
       "      <th>distance</th>\n",
       "      <th>cluster</th>\n",
       "      <th>is_closest</th>\n",
       "    </tr>\n",
       "  </thead>\n",
       "  <tbody>\n",
       "    <tr>\n",
       "      <th>186</th>\n",
       "      <td>10.1016/j.ijid.2020.03.004</td>\n",
       "      <td>body</td>\n",
       "      <td>At present, there is no vaccine or antiviral t...</td>\n",
       "      <td>[\"present\", \"vaccine\", \"antiviral\", \"treatment...</td>\n",
       "      <td>[-0.37089855500119473, -0.7908407018468373, 0....</td>\n",
       "      <td>0.822430</td>\n",
       "      <td>2</td>\n",
       "      <td>True</td>\n",
       "    </tr>\n",
       "    <tr>\n",
       "      <th>6</th>\n",
       "      <td>10.3201/eid2106.150176</td>\n",
       "      <td>abstract</td>\n",
       "      <td>The antimalarial drug chloroquine has been sug...</td>\n",
       "      <td>[\"antimalarial\", \"drug\", \"chloroquine\", \"sugge...</td>\n",
       "      <td>[-0.9581731515000544, -1.888246166391475, 0.83...</td>\n",
       "      <td>0.879102</td>\n",
       "      <td>1</td>\n",
       "      <td>True</td>\n",
       "    </tr>\n",
       "    <tr>\n",
       "      <th>7</th>\n",
       "      <td>10.3201/eid2106.150176</td>\n",
       "      <td>body</td>\n",
       "      <td>The antimalarial drug chloroquine has been sug...</td>\n",
       "      <td>[\"antimalarial\", \"drug\", \"chloroquine\", \"sugge...</td>\n",
       "      <td>[-0.9581731515000544, -1.888246166391475, 0.83...</td>\n",
       "      <td>0.879102</td>\n",
       "      <td>1</td>\n",
       "      <td>True</td>\n",
       "    </tr>\n",
       "    <tr>\n",
       "      <th>9</th>\n",
       "      <td>10.1002/cbf.3182</td>\n",
       "      <td>abstract</td>\n",
       "      <td>Although the mechanisms of action of chloroqui...</td>\n",
       "      <td>[\"although\", \"mechanisms\", \"action\", \"chloroqu...</td>\n",
       "      <td>[-0.31700938330832396, -1.3640088643008028, 0....</td>\n",
       "      <td>0.876977</td>\n",
       "      <td>0</td>\n",
       "      <td>True</td>\n",
       "    </tr>\n",
       "    <tr>\n",
       "      <th>0</th>\n",
       "      <td>10.1038/cddis.2013.225</td>\n",
       "      <td>abstract</td>\n",
       "      <td>Chloroquine has also been used as anti-inflamm...</td>\n",
       "      <td>[\"chloroquine\", \"also\", \"used\", \"anti-inflamma...</td>\n",
       "      <td>[-0.5233842921424556, -0.8737552569358066, 0.4...</td>\n",
       "      <td>0.908413</td>\n",
       "      <td>0</td>\n",
       "      <td>False</td>\n",
       "    </tr>\n",
       "    <tr>\n",
       "      <th>301</th>\n",
       "      <td>10.1016/s0140-6736(10)60357-1</td>\n",
       "      <td>abstract</td>\n",
       "      <td>These data show the potential of RNA interfere...</td>\n",
       "      <td>[\"data\", \"show\", \"potential\", \"rna\", \"interfer...</td>\n",
       "      <td>[-0.07484730531915117, -1.2519306647688682, -0...</td>\n",
       "      <td>0.810981</td>\n",
       "      <td>2</td>\n",
       "      <td>False</td>\n",
       "    </tr>\n",
       "    <tr>\n",
       "      <th>297</th>\n",
       "      <td>10.1128/cmr.00045-07</td>\n",
       "      <td>abstract</td>\n",
       "      <td>Summary: Though several antivirals have been d...</td>\n",
       "      <td>[\"summary\", \"though\", \"several\", \"antivirals\",...</td>\n",
       "      <td>[-0.5380644737652062, -0.9421896836808804, 0.3...</td>\n",
       "      <td>0.811253</td>\n",
       "      <td>2</td>\n",
       "      <td>False</td>\n",
       "    </tr>\n",
       "    <tr>\n",
       "      <th>298</th>\n",
       "      <td>10.1099/jgv.0.000309</td>\n",
       "      <td>abstract</td>\n",
       "      <td>These results advocate that chloroquine should...</td>\n",
       "      <td>[\"results\", \"advocate\", \"chloroquine\", \"consid...</td>\n",
       "      <td>[-0.77465973534322, -1.8164638308488823, 0.260...</td>\n",
       "      <td>0.811225</td>\n",
       "      <td>0</td>\n",
       "      <td>False</td>\n",
       "    </tr>\n",
       "    <tr>\n",
       "      <th>299</th>\n",
       "      <td>10.3389/fmicb.2019.03079</td>\n",
       "      <td>abstract</td>\n",
       "      <td>Currently, there are no vaccines or therapeuti...</td>\n",
       "      <td>[\"currently\", \"vaccines\", \"therapeutic\", \"drug...</td>\n",
       "      <td>[-0.2752155307130031, -0.6325520597285712, 0.3...</td>\n",
       "      <td>0.811207</td>\n",
       "      <td>2</td>\n",
       "      <td>False</td>\n",
       "    </tr>\n",
       "    <tr>\n",
       "      <th>300</th>\n",
       "      <td>10.1155/2013/504563</td>\n",
       "      <td>body</td>\n",
       "      <td>Although immunoglobulin and antiviral agent ri...</td>\n",
       "      <td>[\"although\", \"immunoglobulin\", \"antiviral\", \"a...</td>\n",
       "      <td>[-0.4853182000607353, -1.3503179242955925, 0.5...</td>\n",
       "      <td>0.811082</td>\n",
       "      <td>0</td>\n",
       "      <td>False</td>\n",
       "    </tr>\n",
       "  </tbody>\n",
       "</table>\n",
       "</div>"
      ],
      "text/plain": [
       "                         paper_doi   section  \\\n",
       "186     10.1016/j.ijid.2020.03.004      body   \n",
       "6           10.3201/eid2106.150176  abstract   \n",
       "7           10.3201/eid2106.150176      body   \n",
       "9                 10.1002/cbf.3182  abstract   \n",
       "0           10.1038/cddis.2013.225  abstract   \n",
       "301  10.1016/s0140-6736(10)60357-1  abstract   \n",
       "297           10.1128/cmr.00045-07  abstract   \n",
       "298           10.1099/jgv.0.000309  abstract   \n",
       "299       10.3389/fmicb.2019.03079  abstract   \n",
       "300            10.1155/2013/504563      body   \n",
       "\n",
       "                                          raw_sentence  \\\n",
       "186  At present, there is no vaccine or antiviral t...   \n",
       "6    The antimalarial drug chloroquine has been sug...   \n",
       "7    The antimalarial drug chloroquine has been sug...   \n",
       "9    Although the mechanisms of action of chloroqui...   \n",
       "0    Chloroquine has also been used as anti-inflamm...   \n",
       "301  These data show the potential of RNA interfere...   \n",
       "297  Summary: Though several antivirals have been d...   \n",
       "298  These results advocate that chloroquine should...   \n",
       "299  Currently, there are no vaccines or therapeuti...   \n",
       "300  Although immunoglobulin and antiviral agent ri...   \n",
       "\n",
       "                                              sentence  \\\n",
       "186  [\"present\", \"vaccine\", \"antiviral\", \"treatment...   \n",
       "6    [\"antimalarial\", \"drug\", \"chloroquine\", \"sugge...   \n",
       "7    [\"antimalarial\", \"drug\", \"chloroquine\", \"sugge...   \n",
       "9    [\"although\", \"mechanisms\", \"action\", \"chloroqu...   \n",
       "0    [\"chloroquine\", \"also\", \"used\", \"anti-inflamma...   \n",
       "301  [\"data\", \"show\", \"potential\", \"rna\", \"interfer...   \n",
       "297  [\"summary\", \"though\", \"several\", \"antivirals\",...   \n",
       "298  [\"results\", \"advocate\", \"chloroquine\", \"consid...   \n",
       "299  [\"currently\", \"vaccines\", \"therapeutic\", \"drug...   \n",
       "300  [\"although\", \"immunoglobulin\", \"antiviral\", \"a...   \n",
       "\n",
       "                                                vector  distance  cluster  \\\n",
       "186  [-0.37089855500119473, -0.7908407018468373, 0....  0.822430        2   \n",
       "6    [-0.9581731515000544, -1.888246166391475, 0.83...  0.879102        1   \n",
       "7    [-0.9581731515000544, -1.888246166391475, 0.83...  0.879102        1   \n",
       "9    [-0.31700938330832396, -1.3640088643008028, 0....  0.876977        0   \n",
       "0    [-0.5233842921424556, -0.8737552569358066, 0.4...  0.908413        0   \n",
       "301  [-0.07484730531915117, -1.2519306647688682, -0...  0.810981        2   \n",
       "297  [-0.5380644737652062, -0.9421896836808804, 0.3...  0.811253        2   \n",
       "298  [-0.77465973534322, -1.8164638308488823, 0.260...  0.811225        0   \n",
       "299  [-0.2752155307130031, -0.6325520597285712, 0.3...  0.811207        2   \n",
       "300  [-0.4853182000607353, -1.3503179242955925, 0.5...  0.811082        0   \n",
       "\n",
       "     is_closest  \n",
       "186        True  \n",
       "6          True  \n",
       "7          True  \n",
       "9          True  \n",
       "0         False  \n",
       "301       False  \n",
       "297       False  \n",
       "298       False  \n",
       "299       False  \n",
       "300       False  "
      ]
     },
     "execution_count": 10,
     "metadata": {},
     "output_type": "execute_result"
    }
   ],
   "source": [
    "closest_sentences_df.sort_values(by=\"is_closest\", ascending=False).head(10)"
   ]
  },
  {
   "cell_type": "code",
   "execution_count": 11,
   "metadata": {},
   "outputs": [
    {
     "data": {
      "text/plain": [
       "2    236\n",
       "0    161\n",
       "1     50\n",
       "Name: cluster, dtype: int64"
      ]
     },
     "execution_count": 11,
     "metadata": {},
     "output_type": "execute_result"
    }
   ],
   "source": [
    "# There is 3 Clusters:\n",
    "# 1 = maybe Chloroquine has an effect\n",
    "# 0 = effect\n",
    "# 2 = no effect\n",
    "closest_sentences_df[\"cluster\"].value_counts()"
   ]
  },
  {
   "cell_type": "code",
   "execution_count": 12,
   "metadata": {},
   "outputs": [
    {
     "name": "stdout",
     "output_type": "stream",
     "text": [
      "Cluster : 1\n",
      "The antimalarial drug chloroquine has been suggested as a treatment for Ebola virus infection.\n",
      "\n",
      "Cluster : 1\n",
      "The antimalarial drug chloroquine has been suggested as a treatment for Ebola virus infection.\n",
      "\n",
      "Cluster : 0\n",
      "Although the mechanisms of action of chloroquine clearly indicate that it might inhibit filoviral infections, several clinical trials that attempted to use chloroquine in the treatment of other acute viral infections – including dengue and influenza A and B – caused by low pH‐dependent viruses, have reported that chloroquine had no clinical efficacy, and these results demoted chloroquine from the potential treatments for other virus families requiring low pH for infectivity.\n",
      "\n",
      "Cluster : 2\n",
      "At present, there is no vaccine or antiviral treatment for human and animal coronavirus, so that identifying the drug treatment options as soon as possible is critical for the response to the COVID-19 outbreak.\n",
      "\n"
     ]
    }
   ],
   "source": [
    "for index, row in closest_sentences_df[closest_sentences_df[\"is_closest\"] == True].iterrows():\n",
    "    print(f\"Cluster : {row.cluster}\")\n",
    "    print(f\"{row.raw_sentence}\")\n",
    "    print()"
   ]
  },
  {
   "cell_type": "code",
   "execution_count": null,
   "metadata": {},
   "outputs": [],
   "source": []
  }
 ],
 "metadata": {
  "kernelspec": {
   "display_name": "Python 3",
   "language": "python",
   "name": "python3"
  },
  "language_info": {
   "codemirror_mode": {
    "name": "ipython",
    "version": 3
   },
   "file_extension": ".py",
   "mimetype": "text/x-python",
   "name": "python",
   "nbconvert_exporter": "python",
   "pygments_lexer": "ipython3",
   "version": "3.6.6"
  }
 },
 "nbformat": 4,
 "nbformat_minor": 4
}
