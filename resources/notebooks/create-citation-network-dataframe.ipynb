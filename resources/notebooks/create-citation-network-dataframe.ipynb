{
 "cells": [
  {
   "cell_type": "code",
   "execution_count": 1,
   "metadata": {
    "_cell_guid": "b1076dfc-b9ad-4769-8c92-a6c4dae69d19",
    "_uuid": "8f2839f25d086af736a60e9eeb907d3b93b6e0e5"
   },
   "outputs": [],
   "source": [
    "import numpy as np # linear algebra\n",
    "import pandas as pd # data processing, CSV file I/O (e.g. pd.read_csv)\n",
    "import os\n",
    "import json\n",
    "import networkx as nx\n",
    "\n",
    "kaggle_data_path=os.path.join(os.sep, \"kaggle\", \"input\", \"CORD-19-research-challenge\")"
   ]
  },
  {
   "cell_type": "code",
   "execution_count": 2,
   "metadata": {
    "_cell_guid": "79c7e3d0-c299-4dcb-8224-4455121ee9b0",
    "_uuid": "d629ff2d2480ee46fbb7e2d37f6b5fab8052498a"
   },
   "outputs": [],
   "source": [
    "df = pd.read_csv(kaggle_data_path+\"/metadata.csv\")"
   ]
  },
  {
   "cell_type": "code",
   "execution_count": 3,
   "metadata": {},
   "outputs": [],
   "source": [
    "datafiles = []\n",
    "for dirname, _, filenames in os.walk(kaggle_data_path):\n",
    "    for filename in filenames:\n",
    "        ifile = os.path.join(dirname, filename)\n",
    "        if ifile.split(\".\")[-1] == \"json\":\n",
    "            datafiles.append(ifile)"
   ]
  },
  {
   "cell_type": "code",
   "execution_count": 4,
   "metadata": {},
   "outputs": [
    {
     "name": "stdout",
     "output_type": "stream",
     "text": [
      "framing women's health with a sense-making approach: magazine coverage of breast cancer and implants\n",
      "framing women’s health with a sense-making approach: magazine coverage of breast cancer and implants\n",
      "on the spongiae ciliatae as infusoria flagellata: or observations on the 717 structure, animality and relationship of leucosolenia botryoides bowerbank. the annals and 718 magazine of natural history\n",
      "would everyone wearing face masks help us slow the pandemic? : science 314 magazine\n",
      "genotypic anomaly in ebola virus strains circulating in magazine wharf area\n",
      "issues continue to dog the testing of ebola drugs and vaccines. science magazine\n",
      "foot and mouth disease -how does switzerland react? federal veterinary office magazine\n",
      "is it worth imagining airborne ebola? national geographic magazine\n",
      "kml gets two thumbs up from file format experts. directions magazine\n",
      "severe acute respiratory syndrome (sars). the voice magazine\n",
      "genotypic anomaly in ebola virus strains circulating in magazine wharf area\n",
      "as a doctor, i'd rather have hiv than diabetes. the spectator magazine\n",
      "gnu parallel -the command-line power tool. login: the usenix magazine\n",
      "the next king of the sea. smithsonian magazine\n",
      "engaging iran through vaccine diplomacy. miller-mccune magazine\n",
      "conspectus of the suborders, families and genera of chiroptera arranged according to their natural affinities. the annals and magazine of natural history\n",
      "on the rat, mice, and shrews of the central region of nepal. the annals and magazine of natural history\n",
      "genotypic anomaly in ebola virus strains circulating in magazine wharf area, freetown, sierra leone, 2015\n",
      "genotypic anomaly in ebola virus strains circulating in magazine wharf area, freetown, sierra leone, 2015\n",
      "jellyfish: the next king of the sea. smithsonian magazine 2010\n",
      "nobody bikes in l.a. slate magazine\n",
      "a case of anaphylactic shock caused by cabbage. health magazine\n",
      "icons of comic relief. spike magazine\n",
      "water activity's role in food safety and quality. inside microbiology |food safety magazine\n",
      "chemistry, pharmacology, and pharmaceutics of the components from viburnum prunifolium and v. opulus. botanical magazine (tokyo)\n",
      "why is colorado tourism dropping? colorado business magazine\n",
      "new york times magazine\n",
      "taste of raspberries, taste of death. the 1937 elixir sulfanilamide incident. us food and drug administration -fda consumer magazine\n",
      "stereotypes of the elderly in magazine advertisements 1956-1996\n",
      "a feminist theoretical perspective on the socialization of teenage girls through seventeen magazine\n",
      "thai mural painting. thai art magazine\n",
      "seek & destroy: identifying and controlling listeria monocytogenes growth niches. food safety magazine\n",
      "on the trail of an asian contagion: the outbreak may have originated in china. could faster cooperation from beijing have saved lives? time asia magazine\n",
      "ich nutze zusätzlich/vermehrt printmedien (zeitungen, magazine o.ä.), um mich über ebola zu informieren\n",
      "curtis's botanical magazine\n",
      "did deforestation contribute to zika's spread? smithsonian magazine\n",
      "post-tsunami transitional settlement and shelter: field experience from aceh and sri lanka. humanitarian exchange magazine\n",
      "new fda food safety regulations in usa worry thai exporters. qffi's global seafood magazine\n",
      "quarantine is being used to manage fear, not ebola. time magazine\n",
      "diver requirements eased for malta and spain. diver magazine\n",
      "deep doubts. the australian magazine\n",
      "dead calm. diver magazine\n",
      "bse: anatomy of a crisis. choices: the magazine of food farm and resource issues\n",
      "quantifying pandemic risk. the actuary magazine\n",
      "designing and building eco-efficient hotels. green hotelier: magazine of the international hotels environmental initiative\n",
      "he is an award winning author of both fiction and non-fiction, columnist for the journal explore, and editor of the daily web publication schwartzreport.net in both of which he covers trends that are affecting the future. for over 40 years, as an experimentalist, he has been studying the nature of consciousness, particularly that aspect independent of space and time. schwartz is part of the small group that founded modern remote viewing research, and is the principal researcher studying the use of remote viewing in archaeology. in addition to his own non-fiction works and novels, he is the author of more than 200 technical reports, papers, and academic book chapters. in addition to his experimental studies he has written numerous magazine articles for smithsonian\n",
      "reason for exclusion: magazine article, no data\n",
      "reason for exclusion: magazine article, no data\n",
      "why milk? uc davis magazine online. spring\n",
      "the history of twins, as a criterion of the relative powers of nature and nurture. fraser's magazine 12\n",
      "campus safety magazine\n",
      "meda investigation process. aero magazine\n",
      "access control & security systems magazine\n",
      "a new green revolution? harvard magazine\n",
      "arlington: ms. magazine\n",
      "persons of the year. time magazine\n",
      "the wealth of healthcare. american way magazine\n",
      "interview: 10 questions for bill gates. time magazine\n",
      "time magazine\n",
      "understanding surge capacity within international agencies. humanitarian exchange magazine issue 39\n",
      "on the age of the sun's heat. macmillan's magazine march\n",
      "on the inûuence of carbonic acid in the air upon the temperature of the ground. the london, edinburgh and dublin philosophical magazine\n",
      "understanding and managing food safety risks. in: food safety magazine\n",
      "interior life. the new york times magazine\n",
      "us poultry magazine 43\n",
      "viral terrors. ny times magazine\n",
      "two new mammals from the malay peninsula. annals and magazine of natural history (series 8)\n",
      "the arctonyx of annam. annals and magazine of natural history (series 9\n",
      "cyber terrorism. directions magazine\n",
      "genotypic anomaly in ebola virus strains circulating in magazine wharf area\n",
      "food poisoning in oman. y magazine\n",
      "desert farming experiment yields first results. science magazine\n",
      "doctor isolates cause in nationwide meningitis outbreak. vanderbilt magazine\n",
      "application of the health belief model to us magazine text and image coverage of skin cancer and recreational tanning (2000e2012)\n",
      "mother nature's wash bath -eliminating drag-out while maintaining clean parts, cleantech magazine\n",
      "it's alive: letting microbes do the dirty work, parts cleaning magazine\n",
      "going green -improved grease and oil cleaning with protein-enhanced surfactants, cleantech magazine\n",
      "bioremediation parts cleaning systems exceed expectations, process cleaning magazine\n",
      "emergency risk communication: reflections on a year of accelerating global engagement. spectra: the magazine of the national\n",
      "korean conflict could nuke your next phone, experts say. laptop magazine\n",
      "controlling infection through design. long term living magazine\n",
      "where are the germs? long term living magazine\n",
      "arlington: ms. magazine\n",
      "brazil's foreign-aid programme: speak softly and carry a blank cheque: in search of soft power, brazil is turning itself into one of the world's biggest aid donors. but is it going too far, too fast? the economist. magazine article: world politics\n",
      "excerpt from origins: how the first nine months shape the rest of your life. time magazine\n",
      "the toxicological assessment of lonicera japonica on food safety. the chinese academic medical magazine of organisms 2\n",
      "how canadian researchers reconstituted an extinct poxvirus for $100 000 using mail-order dna. science magazine\n",
      "the knowledge factor. cio magazine\n",
      "pmp news magazine\n",
      "designing and building eco-efficient hotels. green hotelier: magazine of the international hotels environmental initiative\n",
      "the scarlet plague. london magazine\n",
      "signals magazine (online)\n",
      "as global warming rises, so do tree-killing infestations of bark beetles. e/the environmental magazine\n",
      "on the trail of the west nile virus. smithsonian magazine\n",
      "online forum: ferret gi obstruction with dried fruit. exotic dvm magazine\n",
      "the chemical institute of canada magazine\n",
      "stereotypes of the elderly in magazine advertisements 1956–1996\n",
      "a feminist theoretical perspective on the socialization of teenage girls through seventeen magazine\n",
      "nobody bikes in l.a. slate magazine\n"
     ]
    }
   ],
   "source": [
    "citations = []\n",
    "filter_words = ['proc.', 'magazine']#,'magazine']#'copyright','nan']\n",
    "remove_names=[\"publisher's note\", \"world health organization\", \"fields virology\", \"united states census\", \"geneva: world health organization\"]\n",
    "for file in datafiles:\n",
    "    '''id and title of a single document'''\n",
    "    with open(file,'r')as f:\n",
    "        doc = json.load(f)\n",
    "    reftitle = doc['metadata']['title'].lower()\n",
    "    \n",
    "    '''collect bib-entries of a single document'''\n",
    "    for key,value in doc['bib_entries'].items():\n",
    "#         if any(x not in value['title'].lower() for x in filter_words):\n",
    "        value['title'] = value['title'].lower().split('proc.')[0]\n",
    "        if value['title'] in remove_names: \n",
    "            continue\n",
    "        if (len(set(value['title'].lower().split(' ')).intersection(set(filter_words))) == 0) and len(value['title'].lower()) > 0:\n",
    "            citations.append({\"title\": reftitle, \"citation\": value['title'].lower()})\n",
    "        else:\n",
    "            if len(value['title']) > 0: print(value['title'])"
   ]
  },
  {
   "cell_type": "code",
   "execution_count": 5,
   "metadata": {},
   "outputs": [],
   "source": [
    "dfc = pd.DataFrame(citations)"
   ]
  },
  {
   "cell_type": "code",
   "execution_count": 6,
   "metadata": {},
   "outputs": [
    {
     "data": {
      "text/plain": [
       "3083528"
      ]
     },
     "execution_count": 6,
     "metadata": {},
     "output_type": "execute_result"
    }
   ],
   "source": [
    "len(dfc)"
   ]
  },
  {
   "cell_type": "code",
   "execution_count": 7,
   "metadata": {},
   "outputs": [],
   "source": [
    "dfc.to_csv('title_citation.zip', compression='zip', index=False)"
   ]
  },
  {
   "cell_type": "code",
   "execution_count": 8,
   "metadata": {},
   "outputs": [
    {
     "name": "stdout",
     "output_type": "stream",
     "text": [
      "total 104MB\r\n",
      "---------- 1 root root   1MB Apr 14 15:19 __notebook__.ipynb\r\n",
      "-rw-r--r-- 1 root root 104MB Apr 14 15:24 title_citation.zip\r\n"
     ]
    }
   ],
   "source": [
    "!ls -rtl --block-size=MB"
   ]
  },
  {
   "cell_type": "code",
   "execution_count": 9,
   "metadata": {},
   "outputs": [],
   "source": [
    "G = nx.from_pandas_edgelist(dfc,source='title',target='citation',create_using=nx.DiGraph)"
   ]
  },
  {
   "cell_type": "code",
   "execution_count": 10,
   "metadata": {},
   "outputs": [
    {
     "name": "stdout",
     "output_type": "stream",
     "text": [
      "CPU times: user 1min 2s, sys: 1.39 s, total: 1min 3s\n",
      "Wall time: 1min 3s\n"
     ]
    }
   ],
   "source": [
    "%time pr = nx.pagerank(G)"
   ]
  },
  {
   "cell_type": "code",
   "execution_count": 11,
   "metadata": {},
   "outputs": [],
   "source": [
    "pagerank = pd.DataFrame(pr.items(), columns=[\"title\", \"pagerank\"]).sort_values(by=\"pagerank\", ascending=False)"
   ]
  },
  {
   "cell_type": "code",
   "execution_count": 12,
   "metadata": {},
   "outputs": [
    {
     "data": {
      "text/html": [
       "<div>\n",
       "<style scoped>\n",
       "    .dataframe tbody tr th:only-of-type {\n",
       "        vertical-align: middle;\n",
       "    }\n",
       "\n",
       "    .dataframe tbody tr th {\n",
       "        vertical-align: top;\n",
       "    }\n",
       "\n",
       "    .dataframe thead th {\n",
       "        text-align: right;\n",
       "    }\n",
       "</style>\n",
       "<table border=\"1\" class=\"dataframe\">\n",
       "  <thead>\n",
       "    <tr style=\"text-align: right;\">\n",
       "      <th></th>\n",
       "      <th>title</th>\n",
       "      <th>pagerank</th>\n",
       "    </tr>\n",
       "  </thead>\n",
       "  <tbody>\n",
       "    <tr>\n",
       "      <th>297</th>\n",
       "      <td>isolation of a novel coronavirus from a man wi...</td>\n",
       "      <td>0.000023</td>\n",
       "    </tr>\n",
       "    <tr>\n",
       "      <th>448</th>\n",
       "      <td>identification of a novel coronavirus in patie...</td>\n",
       "      <td>0.000023</td>\n",
       "    </tr>\n",
       "    <tr>\n",
       "      <th>565</th>\n",
       "      <td>a novel coronavirus associated with severe acu...</td>\n",
       "      <td>0.000022</td>\n",
       "    </tr>\n",
       "    <tr>\n",
       "      <th>5587</th>\n",
       "      <td>coronavirus as a possible cause of severe acut...</td>\n",
       "      <td>0.000018</td>\n",
       "    </tr>\n",
       "    <tr>\n",
       "      <th>1244</th>\n",
       "      <td>early transmission dynamics in wuhan, china, o...</td>\n",
       "      <td>0.000016</td>\n",
       "    </tr>\n",
       "    <tr>\n",
       "      <th>5407</th>\n",
       "      <td>a novel coronavirus from patients with pneumon...</td>\n",
       "      <td>0.000015</td>\n",
       "    </tr>\n",
       "    <tr>\n",
       "      <th>5594</th>\n",
       "      <td>characterization of a novel coronavirus associ...</td>\n",
       "      <td>0.000015</td>\n",
       "    </tr>\n",
       "    <tr>\n",
       "      <th>8018</th>\n",
       "      <td>a major outbreak of severe acute respiratory s...</td>\n",
       "      <td>0.000014</td>\n",
       "    </tr>\n",
       "    <tr>\n",
       "      <th>8021</th>\n",
       "      <td>clinical features of patients infected with 20...</td>\n",
       "      <td>0.000012</td>\n",
       "    </tr>\n",
       "    <tr>\n",
       "      <th>1863</th>\n",
       "      <td>epidemiological and clinical characteristics o...</td>\n",
       "      <td>0.000011</td>\n",
       "    </tr>\n",
       "    <tr>\n",
       "      <th>2320</th>\n",
       "      <td>clinical features of patients infected with 20...</td>\n",
       "      <td>0.000010</td>\n",
       "    </tr>\n",
       "    <tr>\n",
       "      <th>179</th>\n",
       "      <td>hospital outbreak of middle east respiratory s...</td>\n",
       "      <td>0.000010</td>\n",
       "    </tr>\n",
       "    <tr>\n",
       "      <th>1197</th>\n",
       "      <td>the genome sequence of the sars-associated cor...</td>\n",
       "      <td>0.000010</td>\n",
       "    </tr>\n",
       "    <tr>\n",
       "      <th>5609</th>\n",
       "      <td>angiotensin-converting enzyme 2 is a functiona...</td>\n",
       "      <td>0.000010</td>\n",
       "    </tr>\n",
       "    <tr>\n",
       "      <th>449</th>\n",
       "      <td>isolation and characterization of viruses rela...</td>\n",
       "      <td>0.000010</td>\n",
       "    </tr>\n",
       "    <tr>\n",
       "      <th>461</th>\n",
       "      <td>clinical progression and viral load in a commu...</td>\n",
       "      <td>0.000009</td>\n",
       "    </tr>\n",
       "    <tr>\n",
       "      <th>444</th>\n",
       "      <td>identification of a new human coronavirus</td>\n",
       "      <td>0.000009</td>\n",
       "    </tr>\n",
       "    <tr>\n",
       "      <th>451</th>\n",
       "      <td>bats are natural reservoirs of sars-like coron...</td>\n",
       "      <td>0.000009</td>\n",
       "    </tr>\n",
       "    <tr>\n",
       "      <th>16121</th>\n",
       "      <td>a pneumonia outbreak associated with a new cor...</td>\n",
       "      <td>0.000009</td>\n",
       "    </tr>\n",
       "    <tr>\n",
       "      <th>295</th>\n",
       "      <td>middle east respiratory syndrome</td>\n",
       "      <td>0.000009</td>\n",
       "    </tr>\n",
       "    <tr>\n",
       "      <th>36212</th>\n",
       "      <td>identification of severe acute respiratory syn...</td>\n",
       "      <td>0.000008</td>\n",
       "    </tr>\n",
       "    <tr>\n",
       "      <th>10988</th>\n",
       "      <td>a familial cluster of pneumonia associated wit...</td>\n",
       "      <td>0.000008</td>\n",
       "    </tr>\n",
       "    <tr>\n",
       "      <th>3562</th>\n",
       "      <td>global trends in emerging infectious diseases</td>\n",
       "      <td>0.000008</td>\n",
       "    </tr>\n",
       "    <tr>\n",
       "      <th>5597</th>\n",
       "      <td>the molecular biology of coronaviruses</td>\n",
       "      <td>0.000008</td>\n",
       "    </tr>\n",
       "    <tr>\n",
       "      <th>3899</th>\n",
       "      <td>transmission dynamics and control of severe ac...</td>\n",
       "      <td>0.000008</td>\n",
       "    </tr>\n",
       "    <tr>\n",
       "      <th>740</th>\n",
       "      <td>clinical characteristics of coronavirus diseas...</td>\n",
       "      <td>0.000008</td>\n",
       "    </tr>\n",
       "    <tr>\n",
       "      <th>445</th>\n",
       "      <td>characterization and complete genome sequence ...</td>\n",
       "      <td>0.000007</td>\n",
       "    </tr>\n",
       "    <tr>\n",
       "      <th>15389</th>\n",
       "      <td>a cluster of cases of severe acute respiratory...</td>\n",
       "      <td>0.000007</td>\n",
       "    </tr>\n",
       "    <tr>\n",
       "      <th>1234</th>\n",
       "      <td>nowcasting and forecasting the potential domes...</td>\n",
       "      <td>0.000007</td>\n",
       "    </tr>\n",
       "    <tr>\n",
       "      <th>10262</th>\n",
       "      <td>molecular cloning: a laboratory manual</td>\n",
       "      <td>0.000007</td>\n",
       "    </tr>\n",
       "    <tr>\n",
       "      <th>6305</th>\n",
       "      <td>a newly discovered human pneumovirus isolated ...</td>\n",
       "      <td>0.000007</td>\n",
       "    </tr>\n",
       "    <tr>\n",
       "      <th>1864</th>\n",
       "      <td>clinical characteristics of 138 hospitalized p...</td>\n",
       "      <td>0.000007</td>\n",
       "    </tr>\n",
       "    <tr>\n",
       "      <th>1862</th>\n",
       "      <td>severe acute respiratory syndrome</td>\n",
       "      <td>0.000007</td>\n",
       "    </tr>\n",
       "    <tr>\n",
       "      <th>6028</th>\n",
       "      <td>epidemiological, demographic, and clinical cha...</td>\n",
       "      <td>0.000007</td>\n",
       "    </tr>\n",
       "    <tr>\n",
       "      <th>450</th>\n",
       "      <td>severe acute respiratory syndrome coronavirus-...</td>\n",
       "      <td>0.000006</td>\n",
       "    </tr>\n",
       "    <tr>\n",
       "      <th>531</th>\n",
       "      <td>clinical features and short-term outcomes of 1...</td>\n",
       "      <td>0.000006</td>\n",
       "    </tr>\n",
       "    <tr>\n",
       "      <th>14051</th>\n",
       "      <td>the severe acute respiratory syndrome</td>\n",
       "      <td>0.000006</td>\n",
       "    </tr>\n",
       "    <tr>\n",
       "      <th>302</th>\n",
       "      <td>genomic characterization of a newly discovered...</td>\n",
       "      <td>0.000006</td>\n",
       "    </tr>\n",
       "    <tr>\n",
       "      <th>1408</th>\n",
       "      <td>genomic characterisation and epidemiology of 2...</td>\n",
       "      <td>0.000006</td>\n",
       "    </tr>\n",
       "    <tr>\n",
       "      <th>6019</th>\n",
       "      <td>epidemiological determinants of spread of caus...</td>\n",
       "      <td>0.000006</td>\n",
       "    </tr>\n",
       "    <tr>\n",
       "      <th>10940</th>\n",
       "      <td>a new coronavirus-like particle associated wit...</td>\n",
       "      <td>0.000006</td>\n",
       "    </tr>\n",
       "    <tr>\n",
       "      <th>325</th>\n",
       "      <td>dipeptidyl peptidase 4 is a functional recepto...</td>\n",
       "      <td>0.000006</td>\n",
       "    </tr>\n",
       "    <tr>\n",
       "      <th>142033</th>\n",
       "      <td>submit your next manuscript to biomed central ...</td>\n",
       "      <td>0.000006</td>\n",
       "    </tr>\n",
       "    <tr>\n",
       "      <th>303</th>\n",
       "      <td>detection of a novel human coronavirus by real...</td>\n",
       "      <td>0.000006</td>\n",
       "    </tr>\n",
       "    <tr>\n",
       "      <th>19008</th>\n",
       "      <td>cloning of a human parvovirus by molecular scr...</td>\n",
       "      <td>0.000006</td>\n",
       "    </tr>\n",
       "    <tr>\n",
       "      <th>9314</th>\n",
       "      <td>infectious diseases of humans: dynamics and co...</td>\n",
       "      <td>0.000006</td>\n",
       "    </tr>\n",
       "    <tr>\n",
       "      <th>985</th>\n",
       "      <td>discovery of seven novel mammalian and avian c...</td>\n",
       "      <td>0.000005</td>\n",
       "    </tr>\n",
       "    <tr>\n",
       "      <th>307</th>\n",
       "      <td>middle east respiratory syndrome coronavirus n...</td>\n",
       "      <td>0.000005</td>\n",
       "    </tr>\n",
       "    <tr>\n",
       "      <th>642</th>\n",
       "      <td>mega6: molecular evolutionary genetics analysi...</td>\n",
       "      <td>0.000005</td>\n",
       "    </tr>\n",
       "    <tr>\n",
       "      <th>5601</th>\n",
       "      <td>unique and conserved features of genome and pr...</td>\n",
       "      <td>0.000005</td>\n",
       "    </tr>\n",
       "  </tbody>\n",
       "</table>\n",
       "</div>"
      ],
      "text/plain": [
       "                                                    title  pagerank\n",
       "297     isolation of a novel coronavirus from a man wi...  0.000023\n",
       "448     identification of a novel coronavirus in patie...  0.000023\n",
       "565     a novel coronavirus associated with severe acu...  0.000022\n",
       "5587    coronavirus as a possible cause of severe acut...  0.000018\n",
       "1244    early transmission dynamics in wuhan, china, o...  0.000016\n",
       "5407    a novel coronavirus from patients with pneumon...  0.000015\n",
       "5594    characterization of a novel coronavirus associ...  0.000015\n",
       "8018    a major outbreak of severe acute respiratory s...  0.000014\n",
       "8021    clinical features of patients infected with 20...  0.000012\n",
       "1863    epidemiological and clinical characteristics o...  0.000011\n",
       "2320    clinical features of patients infected with 20...  0.000010\n",
       "179     hospital outbreak of middle east respiratory s...  0.000010\n",
       "1197    the genome sequence of the sars-associated cor...  0.000010\n",
       "5609    angiotensin-converting enzyme 2 is a functiona...  0.000010\n",
       "449     isolation and characterization of viruses rela...  0.000010\n",
       "461     clinical progression and viral load in a commu...  0.000009\n",
       "444             identification of a new human coronavirus  0.000009\n",
       "451     bats are natural reservoirs of sars-like coron...  0.000009\n",
       "16121   a pneumonia outbreak associated with a new cor...  0.000009\n",
       "295                      middle east respiratory syndrome  0.000009\n",
       "36212   identification of severe acute respiratory syn...  0.000008\n",
       "10988   a familial cluster of pneumonia associated wit...  0.000008\n",
       "3562        global trends in emerging infectious diseases  0.000008\n",
       "5597               the molecular biology of coronaviruses  0.000008\n",
       "3899    transmission dynamics and control of severe ac...  0.000008\n",
       "740     clinical characteristics of coronavirus diseas...  0.000008\n",
       "445     characterization and complete genome sequence ...  0.000007\n",
       "15389   a cluster of cases of severe acute respiratory...  0.000007\n",
       "1234    nowcasting and forecasting the potential domes...  0.000007\n",
       "10262              molecular cloning: a laboratory manual  0.000007\n",
       "6305    a newly discovered human pneumovirus isolated ...  0.000007\n",
       "1864    clinical characteristics of 138 hospitalized p...  0.000007\n",
       "1862                    severe acute respiratory syndrome  0.000007\n",
       "6028    epidemiological, demographic, and clinical cha...  0.000007\n",
       "450     severe acute respiratory syndrome coronavirus-...  0.000006\n",
       "531     clinical features and short-term outcomes of 1...  0.000006\n",
       "14051               the severe acute respiratory syndrome  0.000006\n",
       "302     genomic characterization of a newly discovered...  0.000006\n",
       "1408    genomic characterisation and epidemiology of 2...  0.000006\n",
       "6019    epidemiological determinants of spread of caus...  0.000006\n",
       "10940   a new coronavirus-like particle associated wit...  0.000006\n",
       "325     dipeptidyl peptidase 4 is a functional recepto...  0.000006\n",
       "142033  submit your next manuscript to biomed central ...  0.000006\n",
       "303     detection of a novel human coronavirus by real...  0.000006\n",
       "19008   cloning of a human parvovirus by molecular scr...  0.000006\n",
       "9314    infectious diseases of humans: dynamics and co...  0.000006\n",
       "985     discovery of seven novel mammalian and avian c...  0.000005\n",
       "307     middle east respiratory syndrome coronavirus n...  0.000005\n",
       "642     mega6: molecular evolutionary genetics analysi...  0.000005\n",
       "5601    unique and conserved features of genome and pr...  0.000005"
      ]
     },
     "execution_count": 12,
     "metadata": {},
     "output_type": "execute_result"
    }
   ],
   "source": [
    "pagerank.head(50)"
   ]
  },
  {
   "cell_type": "code",
   "execution_count": 13,
   "metadata": {},
   "outputs": [
    {
     "data": {
      "text/plain": [
       "title       isolation of a novel coronavirus from a man wi...\n",
       "pagerank                                           2.2989e-05\n",
       "Name: 297, dtype: object"
      ]
     },
     "execution_count": 13,
     "metadata": {},
     "output_type": "execute_result"
    }
   ],
   "source": [
    "pagerank.iloc[0]"
   ]
  },
  {
   "cell_type": "code",
   "execution_count": 14,
   "metadata": {},
   "outputs": [
    {
     "data": {
      "text/plain": [
       "title       priorities for pe development: -review pe trai...\n",
       "pagerank                                          1.00104e-06\n",
       "Name: 221662, dtype: object"
      ]
     },
     "execution_count": 14,
     "metadata": {},
     "output_type": "execute_result"
    }
   ],
   "source": [
    "pagerank.iloc[6000]"
   ]
  },
  {
   "cell_type": "code",
   "execution_count": 15,
   "metadata": {},
   "outputs": [
    {
     "data": {
      "text/plain": [
       "'identification of a novel coronavirus in patients with severe acute respiratory syndrome'"
      ]
     },
     "execution_count": 15,
     "metadata": {},
     "output_type": "execute_result"
    }
   ],
   "source": [
    "pagerank.iloc[1][\"title\"]"
   ]
  },
  {
   "cell_type": "code",
   "execution_count": 16,
   "metadata": {},
   "outputs": [
    {
     "data": {
      "text/plain": [
       "1398451"
      ]
     },
     "execution_count": 16,
     "metadata": {},
     "output_type": "execute_result"
    }
   ],
   "source": [
    "len(pagerank)"
   ]
  },
  {
   "cell_type": "code",
   "execution_count": 17,
   "metadata": {},
   "outputs": [
    {
     "name": "stdout",
     "output_type": "stream",
     "text": [
      "The paper <<isolation of a novel coronavirus from a man with pneumonia in saudi arabia>> \n",
      " is cited 1151 times. Its annexe contain 0 references.\n"
     ]
    }
   ],
   "source": [
    "title = pagerank.iloc[0][\"title\"]\n",
    "print(f\"The paper <<{title}>> \\n is cited {G.in_degree[title]} times. Its annexe contain {G.out_degree[title]} references.\")"
   ]
  },
  {
   "cell_type": "code",
   "execution_count": null,
   "metadata": {},
   "outputs": [],
   "source": []
  }
 ],
 "metadata": {
  "kernelspec": {
   "display_name": "Python 3",
   "language": "python",
   "name": "python3"
  },
  "language_info": {
   "codemirror_mode": {
    "name": "ipython",
    "version": 3
   },
   "file_extension": ".py",
   "mimetype": "text/x-python",
   "name": "python",
   "nbconvert_exporter": "python",
   "pygments_lexer": "ipython3",
   "version": "3.6.6"
  }
 },
 "nbformat": 4,
 "nbformat_minor": 4
}
